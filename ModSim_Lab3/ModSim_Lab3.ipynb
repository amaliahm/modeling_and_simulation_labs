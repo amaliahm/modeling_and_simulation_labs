{
  "cells": [
    {
      "cell_type": "markdown",
      "metadata": {
        "id": "Im2Mmg04EkJB"
      },
      "source": [
        "<figure>\n",
        "  <IMG src=\"figures/logo-esi-sba.png\" WIDTH=300 height=\"100\" ALIGN=\"right\">\n",
        "</figure>\n",
        "\n",
        "# Practical Trainining Series on Modeling And Simulation   \n",
        "*By Dr. Belkacem KHALDI (b.khaldi@esi-sba.dz)*"
      ]
    },
    {
      "cell_type": "markdown",
      "metadata": {
        "id": "VCoTk4fMEkJB"
      },
      "source": [
        "## Notebook 3: Probabilities and Random Number Simulation\n",
        "In this Notebook you learn how to deal with Probabilities and Random Number Simulation. Many of the functions we will use are included in the `random` subpackage of `numpy`. We will import this package and call it `rnd` so that we don't have to type `np.random`. all the time."
      ]
    },
    {
      "cell_type": "code",
      "execution_count": 54,
      "metadata": {
        "id": "lTjkPDt4EkJR"
      },
      "outputs": [],
      "source": [
        "import numpy as np\n",
        "import matplotlib.pyplot as plt\n",
        "import numpy.random as rnd"
      ]
    },
    {
      "cell_type": "markdown",
      "metadata": {
        "id": "TGXTqwsQEkJR"
      },
      "source": [
        "### 1- Introduction to Probability\n",
        "Probability is a means of determining and describing the likelihood of an event occurring or the truth of a situation. It's a helpful mathematical tool for coping with unpredictability and uncertainty.\n",
        "\n",
        "### Exemple 1: Tossing a coin\n",
        "Currency coins are often said to have two sides: a \"head\" and a \"tail\"\n",
        "\n",
        "<figure>\n",
        "  <IMG src=\"figures/coin-100dz.jpeg\" WIDTH=300 height=\"100\" ALIGN=\"right\">\n",
        "</figure>\n",
        "\n",
        "A fair coin is one that is equally likely to land on either side when tossed or flipped. The side that shows up on top once the coin lands is referred to as the result of a coin toss/flip.\n",
        "    \n",
        "If we have precise measurements of the physical environment and the forces used to toss the coin, we may be able to predict the outcome. However, we rarely have access to this information, making it difficult (if not impossible) to execute all of these measurements with adequate precision.\n",
        "    \n",
        "The assumption of randomness allows you to deal with limited data and unpredictable outcomes. Tossing a coin is described as an experiment that can yield one of two outcomes at random. Probability is a metric for determining how likely each outcome is.\n",
        "\n",
        "> **Question**: If you flip a fair coin, what is the **probability** of **getting heads**?\n",
        "\n",
        "When we have several equally likely possible outcomes, the probability of a condition (also called event) is defined as:\n",
        "\n",
        "> $$P(\\textrm{condition}) = \\frac{\\textrm{ No. of outcomes satisfying the condition }} {\\textrm{Number of equally likely outcomes}}$$\n",
        "\n",
        "**The probability of a condition/event is a number between 0 and 1.**\n",
        "\n",
        "\n",
        "We can define a function `probability` to perform this calculation."
      ]
    },
    {
      "cell_type": "code",
      "execution_count": 55,
      "metadata": {
        "id": "ZmnEokrmEkJR"
      },
      "outputs": [],
      "source": [
        "def probability(matching_outcomes, total_outcomes):\n",
        "    return matching_outcomes/total_outcomes"
      ]
    },
    {
      "cell_type": "markdown",
      "metadata": {
        "id": "lCRJ-Q22EkJR"
      },
      "source": [
        "When we toss a fair coin, there are just two conceivable outcomes: \"head\" or \"tail,\" both equally likely. One of the outcomes matches the condition \"getting a head\".\n",
        "\n",
        "With this information, we can now use the formula to compute the probability of a getting a head."
      ]
    },
    {
      "cell_type": "code",
      "execution_count": 56,
      "metadata": {
        "colab": {
          "base_uri": "https://localhost:8080/"
        },
        "id": "PgMWjYYZEkJR",
        "outputId": "087bfccf-4185-42e8-927f-f6c444d0685a"
      },
      "outputs": [
        {
          "name": "stdout",
          "output_type": "stream",
          "text": [
            "The probability of getting a head: 0.5\n"
          ]
        }
      ],
      "source": [
        "p_head = probability(matching_outcomes=1, total_outcomes=2)\n",
        "print(\"The probability of getting a head:\", p_head)"
      ]
    },
    {
      "cell_type": "markdown",
      "metadata": {
        "id": "2IBIlND2EkJR"
      },
      "source": [
        "### Challenge 1\n",
        "Using the `probability` function mention above, compute the probability of the following queries when you flip a fair coin:\n",
        "<ol>\n",
        "  <li>What is the probability  of getting a tail ? </li>\n",
        "  <li>What is the probability of getting a head or a tail?</li>\n",
        "  <li>What is the probability of receiving neither a head nor a tail?</li>\n",
        "</ol>\n",
        "   "
      ]
    },
    {
      "cell_type": "code",
      "execution_count": 57,
      "metadata": {
        "id": "38_KOfY2EkJR"
      },
      "outputs": [
        {
          "name": "stdout",
          "output_type": "stream",
          "text": [
            "proba of getting a tail:  0.5\n",
            "proba of getting a head or tail:  1.0\n",
            "proba of receiving neither a head nor tail:  0.0\n"
          ]
        }
      ],
      "source": [
        "print('proba of getting a tail: ', probability(matching_outcomes=1,total_outcomes=2))\n",
        "print('proba of getting a head or tail: ', probability(matching_outcomes=2,total_outcomes=2))\n",
        "print('proba of receiving neither a head nor tail: ', probability(matching_outcomes=0,total_outcomes=2))"
      ]
    },
    {
      "cell_type": "markdown",
      "metadata": {
        "id": "7dDKn8QCEkJR"
      },
      "source": [
        "### Exemple 2: Rolling dice\n",
        "\n",
        "A die (plural dice) is a 6-sided cube with a varied number of dots on each face (one to six). The number of dots that appear on the top face of a die after it has been rolled or thrown is known as the result of the roll/throw. As a result, a die throw can result in one of the following outcomes: 1, 2, 3, 4, 5, or 6.\n",
        "\n",
        "<img src=\"figures/one-dice.jpg\" width=\"100\">\n",
        "\n",
        "> **Question**: What is the probability of getting a four when a fair die is rolled?\n",
        "\n",
        "All outcomes are equally likely for a fair die, and the only the outcome 4 satisfies the condition \"getting a 4\". Thus, we can calculate the probability of the condition as follows:"
      ]
    },
    {
      "cell_type": "code",
      "execution_count": 58,
      "metadata": {
        "colab": {
          "base_uri": "https://localhost:8080/"
        },
        "id": "W8jK3IioEkJR",
        "outputId": "bbd95e6f-1400-4cef-a9be-354c90cc3f7f"
      },
      "outputs": [
        {
          "name": "stdout",
          "output_type": "stream",
          "text": [
            "The probability of getting a 4: 0.16666666666666666\n"
          ]
        }
      ],
      "source": [
        "p_die_4=probability(matching_outcomes=1, total_outcomes=6)\n",
        "print(\"The probability of getting a 4:\", p_die_4)"
      ]
    },
    {
      "cell_type": "markdown",
      "metadata": {
        "id": "clasSQUDEkJR"
      },
      "source": [
        "### Challenge 2\n",
        "Compute the probability of the following queries when rolling a die:\n",
        "\n",
        "<ol>\n",
        "  <li>What is the probability of getting <b> an even number </b>? </li>\n",
        "  <li>What is the probability of getting <b>a three or a six </b>?</li>\n",
        "  <li>What is the probability of getting <b>a three and a six</b>?</li>\n",
        "   <li> What is the probability of getting <b> a three or a seven</b>?</li>\n",
        "</ol>"
      ]
    },
    {
      "cell_type": "code",
      "execution_count": 59,
      "metadata": {
        "id": "EzA-k4ujEkJR"
      },
      "outputs": [
        {
          "name": "stdout",
          "output_type": "stream",
          "text": [
            "proba of getting an even number (2, 4, 6):  0.5\n",
            "proba of getting a 3 or 6:  0.3333333333333333\n",
            "proba of getting a 3 and 6:  0.0\n",
            "proba of getting a 3 or 7:  0.16666666666666666\n"
          ]
        }
      ],
      "source": [
        "print('proba of getting an even number (2, 4, 6): ', probability(matching_outcomes=3,total_outcomes=6))\n",
        "print('proba of getting a 3 or 6: ', probability(matching_outcomes=2,total_outcomes=6))\n",
        "print('proba of getting a 3 and 6: ', probability(matching_outcomes=0,total_outcomes=6))\n",
        "print('proba of getting a 3 or 7: ', probability(matching_outcomes=1,total_outcomes=6))"
      ]
    },
    {
      "cell_type": "markdown",
      "metadata": {
        "id": "XLZt7SKYEkJR"
      },
      "source": [
        "### Exemple 3: Playing Cards\n",
        "\n",
        "<img src=\"figures/deck_cards.jpg\" width=\"200\">\n",
        "\n",
        "There are 52 cards in a deck of playing cards. Each card is assigned to one of four suits: Spade ♠️, Clubs ♣️, Hearts ♥️ or Diamonds ♦️. Each suit consists of 13 cards: *Ace, 2, 3, 4, 5, 6, 7, 8, 9, 10, Jack, Queen*, and *King*. Hearts and diamonds are red, but spades and clubs are black.\n",
        "\n",
        "<img src=\"figures/playing_cards_deck.svg.png\" >\n",
        "\n",
        "\n",
        "\n",
        "\n",
        "In a well-shuffled deck of cards, any card is equally likely to end up at any position in the deck.\n",
        "\n",
        "<img src=\"figures/giphy.gif\" >\n",
        "\n",
        "\n",
        "> **Question**: What is the probability of **drawing a King of Hearts** from a well-shuffled deck of cards?\n",
        "\n",
        "There are 52 equally likely outcomes of the card being drawn, and just one outcome matches this condition."
      ]
    },
    {
      "cell_type": "code",
      "execution_count": 60,
      "metadata": {
        "colab": {
          "base_uri": "https://localhost:8080/"
        },
        "id": "FVWEsCxmEkJR",
        "outputId": "0ac40093-5b43-4888-ab55-4b8537849768"
      },
      "outputs": [
        {
          "name": "stdout",
          "output_type": "stream",
          "text": [
            "The probability of getting a King of Hearts: 0.019230769230769232\n"
          ]
        }
      ],
      "source": [
        "p_king_of_hearts=probability(matching_outcomes=1, total_outcomes=52)\n",
        "print(\"The probability of getting a King of Hearts:\", p_king_of_hearts)"
      ]
    },
    {
      "cell_type": "markdown",
      "metadata": {
        "id": "eOZRRP5jEkJR"
      },
      "source": [
        "### Challenge 3\n",
        "What is the probability of **drawing a red card** from a well-shuffled deck of cards.\n",
        "\n",
        "> *Hint*: Count the number of red cards.\n",
        "\n",
        "What is the probability of **drawing a spade ♠️** from a well-shuffled deck of cards.\n",
        "\n",
        "What is the probability of **drawing a 7** from a well-shuffled deck of cards.\n",
        "\n",
        "What is the probability of **drawing a card that's a spade and a jack** from a well-shuffled deck of cards?"
      ]
    },
    {
      "cell_type": "code",
      "execution_count": 61,
      "metadata": {
        "id": "ser-NIvZEkJR"
      },
      "outputs": [
        {
          "name": "stdout",
          "output_type": "stream",
          "text": [
            "proba of drawing a red card:  0.5\n",
            "proba of drawing a spade:  0.25\n",
            "proba of drawing a 7:  0.07692307692307693\n",
            "proba of drawing a spade and jack:  0.019230769230769232\n"
          ]
        }
      ],
      "source": [
        "print('proba of drawing a red card: ', probability(matching_outcomes=26,total_outcomes=52))\n",
        "print('proba of drawing a spade: ', probability(matching_outcomes=13,total_outcomes=52))\n",
        "print('proba of drawing a 7: ', probability(matching_outcomes=4,total_outcomes=52))\n",
        "print('proba of drawing a spade and jack: ', probability(matching_outcomes=1,total_outcomes=52))"
      ]
    },
    {
      "cell_type": "markdown",
      "metadata": {
        "id": "kN80WERmEkJR"
      },
      "source": [
        "### Bayes's Theorem\n",
        "\n",
        "There are two ways to think about Bayes's Theorem:\n",
        "\n",
        "* It is a divide-and conquer strategy for computing conditional probabilities.  If it's hard to compute $P(A|B)$ directly, sometimes it is easier to compute the terms on the other side of the equation: $P(A)$, $P(B|A)$, and $P(B)$.\n",
        "\n",
        "* It is also a recipe for updating beliefs in the light of new data.\n",
        "\n",
        "When we are working with the second interpretation, we often write Bayes's Theorem with different variables.  Instead of $A$ and $B$, we use $H$ and $D$, where\n",
        "\n",
        "* $H$ stands for \"hypothesis\", and\n",
        "\n",
        "* $D$ stands for \"data\".\n",
        "\n",
        "So we write Bayes's Theorem like this:\n",
        "\n",
        "$P(A|B) =\\frac{P(A) ~ P(B|A)}{P(B)}$\n",
        "\n",
        "$P(H|D) =\\frac{P(H) ~ P(D|H)}{P(D)}$\n",
        "\n",
        "In this context, each term has a name:\n",
        "\n",
        "* $P(H)$ is the \"prior probability\" of the hypothesis, which represents how confident you are that $H$ is true prior to seeing the data,\n",
        "\n",
        "* $P(D|H)$ is the \"likelihood\" of the data, which is the probability of seeing $D$ if the hypothesis is true,\n",
        "\n",
        "* $P(D)$ is the \"total probability of the data\", that is, the chance of seeing $D$ regardless of whether $H$ is true or not.\n",
        "\n",
        "* $P(H|D)$ is the \"posterior probability\" of the hypothesis, which indicates how confident you should be that $H$ is true after taking the data into account.\n",
        "\n",
        "An example will make all of this clearer."
      ]
    },
    {
      "cell_type": "markdown",
      "metadata": {
        "id": "gI32GW57EkJR"
      },
      "source": [
        "### The cookie problem\n",
        "\n",
        "\n",
        "> Suppose you have two bowls of cookies.  Bowl 1 contains 30 vanilla and 10 chocolate cookies.  Bowl 2 contains 20 of each kind.\n",
        ">\n",
        "> You choose one of the bowls at random and, without looking into the bowl, choose one of the cookies at random.  It turns out to be a vanilla cookie.\n",
        ">\n",
        "> What is the chance that you chose Bowl 1?\n",
        "\n",
        "We'll assume that there was an equal chance of choosing either bowl and an equal chance of choosing any cookie in the bowl."
      ]
    },
    {
      "cell_type": "markdown",
      "metadata": {
        "id": "B1C7l8vWEkJR"
      },
      "source": [
        "We can solve this problem using Bayes's Theorem. First, I'll define  $H$  and  $D$ :\n",
        "\n",
        "$H$  is the hypothesis that the bowl you chose is Bowl 1.\n",
        "\n",
        "$D$  is the data that the cookie is vanilla.\n",
        "\n",
        "What we want is the posterior probability of  $H$ , which is  $P(H|D)$ . It is not obvious how to compute it directly, but if we can figure out the terms on the right-hand side of Bayes's Theorem, we can get to it indirectly.\n",
        "\n",
        "$P(H)$ is the prior probability of $H$, which is the probability of choosing Bowl 1 before we see the data. If there was an equal chance of choosing either bowl, $P(H)$ is 1/2.\n",
        "\n",
        "$P(D|H)$ is the likelihood of the data, which is the chance of getting a vanilla cookie if $H$ is true, in other words, the chance of getting a vanilla cookie from Bowl 1, which is 30/40.\n",
        "\n",
        "$P(D)$ is the total probability of the data, which is the chance of getting a vanilla cookie whether $𝐻$ is true or not. In this example, we can figure out $P(D)$ directly: because the bowls are equally likely, and they contain the same number of cookies, you were equally likely to choose any cookie. Combining the two bowls, there are 50 vanilla and 30 chocolate cookies, so the probability of choosing a vanilla cookie is 50/80.\n",
        "\n",
        "Now that we have the terms on the right-hand side, we can use Bayes's Theorem to combine them."
      ]
    },
    {
      "cell_type": "code",
      "execution_count": 62,
      "metadata": {
        "colab": {
          "base_uri": "https://localhost:8080/"
        },
        "id": "SuQB3sM8EkJR",
        "outputId": "da229b50-03db-423f-a681-d95e72215620"
      },
      "outputs": [
        {
          "name": "stdout",
          "output_type": "stream",
          "text": [
            "The probability of choosing Bowl 1: 0.6\n"
          ]
        }
      ],
      "source": [
        "#𝑃(𝐻)\n",
        "prior = probability(matching_outcomes=1, total_outcomes=2)\n",
        "#𝑃(𝐷|𝐻)\n",
        "likelihood =probability(matching_outcomes=30, total_outcomes=40)\n",
        "#𝑃(𝐷)\n",
        "prob_data = probability(matching_outcomes=50, total_outcomes=80)\n",
        "#computing 𝑃(𝐻|𝐷)\n",
        "posterior = prior * likelihood / prob_data\n",
        "print(\"The probability of choosing Bowl 1:\", posterior)"
      ]
    },
    {
      "cell_type": "markdown",
      "metadata": {
        "id": "rbOP8-UjEkJR"
      },
      "source": [
        "The posterior probability is  0.6 , a little higher than the prior, which was  0.5 .\n",
        "\n",
        "So the vanilla cookie makes us a little more certain that we chose Bowl 1.\n",
        "\n",
        "### Challenge 4\n",
        "What if we had chosen a chocolate cookie instead; what would be the posterior probability of Bowl 1?"
      ]
    },
    {
      "cell_type": "code",
      "execution_count": 63,
      "metadata": {
        "id": "zc1D49qwEkJR"
      },
      "outputs": [
        {
          "name": "stdout",
          "output_type": "stream",
          "text": [
            "the proba of choosing Bowl 1 given a chocolate cookie is: 0.3333333333333333\n"
          ]
        }
      ],
      "source": [
        "prior = probability(matching_outcomes=1, total_outcomes=2) #𝑃(𝐻) \n",
        "likelihood_bowl1 = probability(matching_outcomes=10, total_outcomes=40) #𝑃(C|𝐻) \n",
        "likelihood_bowl2 = probability(matching_outcomes=20, total_outcomes=40) #𝑃(C|!𝐻)\n",
        "\n",
        "total_proba = (prior * likelihood_bowl1) + (prior * likelihood_bowl2) ##𝑃(D) = 𝑃(C|𝐻) + #𝑃(C|!𝐻)\n",
        "posterior = (prior * likelihood_bowl1) / total_proba #𝑃(C|𝐻)/P(D)\n",
        "\n",
        "print(\"the proba of choosing Bowl 1 given a chocolate cookie is:\", posterior)"
      ]
    },
    {
      "cell_type": "markdown",
      "metadata": {
        "id": "QTzuWUR_EkJR"
      },
      "source": [
        "### 2- Random Numbers Generation\n",
        "A random number generator lets you draw, at random, a number from a specified distribution. Several random number generators are included in the `random` subpackage of `numpy`.\n",
        "\n",
        "#### The random.random() function\n",
        " The `random.random()` function returns the next nearest  foating-point value from the generated sequence. All return values are enclosed between 0 and 1.0. Let's explore a practical example that uses this function:"
      ]
    },
    {
      "cell_type": "code",
      "execution_count": 64,
      "metadata": {
        "colab": {
          "base_uri": "https://localhost:8080/"
        },
        "id": "AlEYCiHpEkJR",
        "outputId": "e40f07b0-970a-4fdb-bfcb-4d864de3501e",
        "scrolled": true
      },
      "outputs": [
        {
          "name": "stdout",
          "output_type": "stream",
          "text": [
            "0.2733 0.2270 0.8372 0.2535 0.2238 0.8518 0.8112 0.5843 0.8261 0.0114 0.2199 0.9379 0.4211 0.1128 0.9092 0.3923 0.0494 0.0521 0.2457 0.2009 "
          ]
        }
      ],
      "source": [
        "for i in range(20):\n",
        "    print('%05.4f' % rnd.random(), end=' ')"
      ]
    },
    {
      "cell_type": "markdown",
      "metadata": {
        "id": "nOqkhUJeEkJR"
      },
      "source": [
        "In the above example, 20 pseudorandom numbers are generated. Each number is printed in a format that includes 5 digits, including 4 decimal places.\n",
        "If we call the random() function again, we get a different sequence numbers:"
      ]
    },
    {
      "cell_type": "code",
      "execution_count": 65,
      "metadata": {
        "colab": {
          "base_uri": "https://localhost:8080/"
        },
        "id": "NW7xelo4EkJR",
        "outputId": "90ff253e-5597-4536-a130-82461f71001f"
      },
      "outputs": [
        {
          "name": "stdout",
          "output_type": "stream",
          "text": [
            "0.6605 0.2575 0.3387 0.2881 0.8047 0.9411 0.6663 0.3381 0.2124 0.3226 0.6276 0.8971 0.8620 0.3858 0.6016 0.5136 0.3699 0.4538 0.8365 0.4317 "
          ]
        }
      ],
      "source": [
        "for i in range(20):\n",
        "    print('%05.4f' % rnd.random(), end=' ')"
      ]
    },
    {
      "cell_type": "markdown",
      "metadata": {
        "id": "PiTlJwyeEkJR"
      },
      "source": [
        "#### The random.seed() function\n",
        "Internally, the random number generator starts with what is called a `seed`. The `seed` is a number and is generated automatically (and supposedly at random) when you call the random number generator. The value of the seed exactly defines the sequence of random numbers that you get. For example, let's set seed equal to 1:"
      ]
    },
    {
      "cell_type": "code",
      "execution_count": 66,
      "metadata": {
        "colab": {
          "base_uri": "https://localhost:8080/"
        },
        "id": "u8mY60EBEkJR",
        "outputId": "1607666a-8012-48da-9a69-2795b81be06b"
      },
      "outputs": [
        {
          "name": "stdout",
          "output_type": "stream",
          "text": [
            "0.4170 0.7203 0.0001 0.3023 0.1468 0.0923 0.1863 0.3456 0.3968 0.5388 0.4192 0.6852 0.2045 0.8781 0.0274 0.6705 0.4173 0.5587 0.1404 0.1981 "
          ]
        }
      ],
      "source": [
        "rnd.seed(1)\n",
        "for i in range(20):\n",
        "    print('%05.4f' % rnd.random(), end=' ')"
      ]
    },
    {
      "cell_type": "markdown",
      "metadata": {
        "id": "ToDwkYKVEkJR"
      },
      "source": [
        "If we now specify the `seed` again as 1, the exact same sequence is generated again."
      ]
    },
    {
      "cell_type": "code",
      "execution_count": 67,
      "metadata": {
        "colab": {
          "base_uri": "https://localhost:8080/"
        },
        "id": "sVuy9XquEkJR",
        "outputId": "7cf910ad-5898-44c9-f2e8-e6f9ded83e2b"
      },
      "outputs": [
        {
          "name": "stdout",
          "output_type": "stream",
          "text": [
            "0.4170 0.7203 0.0001 0.3023 0.1468 0.0923 0.1863 0.3456 0.3968 0.5388 0.4192 0.6852 0.2045 0.8781 0.0274 0.6705 0.4173 0.5587 0.1404 0.1981 "
          ]
        }
      ],
      "source": [
        "rnd.seed(1)\n",
        "for i in range(20):\n",
        "    print('%05.4f' % rnd.random(), end=' ')"
      ]
    },
    {
      "cell_type": "markdown",
      "metadata": {
        "id": "_eRdaKjmEkJR"
      },
      "source": [
        "#### The random.uniform() function\n",
        "The `random.uniform()` function generates numbers within a defined numeric range. Let's look at an example:"
      ]
    },
    {
      "cell_type": "code",
      "execution_count": 68,
      "metadata": {
        "colab": {
          "base_uri": "https://localhost:8080/"
        },
        "id": "QRpkfbvfEkJR",
        "outputId": "3af26e96-94dd-40e8-c996-a2c31efeb7b7"
      },
      "outputs": [
        {
          "name": "stdout",
          "output_type": "stream",
          "text": [
            "80.2737 96.8579 32.0290 69.5399 87.7625 89.5661 9.4194 4.8664 17.8132 87.9361 10.7363 42.6897 95.8311 53.7834 69.4958 32.2360 68.9636 83.6279 2.8105 75.2643 "
          ]
        }
      ],
      "source": [
        "for i in range(20):\n",
        "    print('%6.4f' % rnd.uniform(1, 100), end=' ')"
      ]
    },
    {
      "cell_type": "markdown",
      "metadata": {
        "id": "V_cONPrvEkJR"
      },
      "source": [
        "In the above example, 20 random numbers are generated in the range of [1,100)\n",
        "\n",
        "#### The random.randint() function\n",
        "This function generates random integers.  The arguments for `randint()` are the values of the range, including the extremes.  The numbers may be negative or positive, but the  1st value should be less than the second. Let's look at an example:"
      ]
    },
    {
      "cell_type": "code",
      "execution_count": 69,
      "metadata": {
        "colab": {
          "base_uri": "https://localhost:8080/"
        },
        "id": "L2-Mpp_uEkJR",
        "outputId": "d1bbe712-1aea-427a-af1d-d70c8c7cfb90"
      },
      "outputs": [
        {
          "name": "stdout",
          "output_type": "stream",
          "text": [
            "-85 -36 96 -75 11 35 -74 53 4 -78 -91 95 26 -77 25 0 55 65 -43 -17 "
          ]
        }
      ],
      "source": [
        "for i in range(20):\n",
        "    print(rnd.randint(-100, 100), end=' ')"
      ]
    },
    {
      "cell_type": "markdown",
      "metadata": {
        "id": "2tVKJscREkJR"
      },
      "source": [
        "In the above example, 20 random integer numbers are generated in the range of [-100,100]\n",
        "\n",
        "#### The random.choice() function\n",
        "A common use for random number generators is to select a random element from a sequence of enumerated values, even if these values are not numbers.  The `choice()` function returns a random element of the non-empty sequence passed as an argument. This function is suitable to use in extracting values from a predetermined list:"
      ]
    },
    {
      "cell_type": "code",
      "execution_count": 70,
      "metadata": {
        "colab": {
          "base_uri": "https://localhost:8080/"
        },
        "id": "0M2s3n0XEkJR",
        "outputId": "bbbbd9c4-f642-4a1e-b775-03355f2d9031"
      },
      "outputs": [
        {
          "name": "stdout",
          "output_type": "stream",
          "text": [
            "Randomly selected item from Cities list is -  Los Angeles\n",
            "Randomly selected item from Cities list is -  Madrid\n",
            "Randomly selected item from Cities list is -  Rome\n",
            "Randomly selected item from Cities list is -  Algiers\n",
            "Randomly selected item from Cities list is -  Toronto\n"
          ]
        }
      ],
      "source": [
        "CitiesList = ['Rome','New York','Algiers','London','Berlin','Moskov',\n",
        "'Los Angeles','Paris','Madrid','Tokio','Toronto']\n",
        "for i in range(5):\n",
        "    CitiesItem = rnd.choice(CitiesList)\n",
        "    print (\"Randomly selected item from Cities list is - \",CitiesItem)"
      ]
    },
    {
      "cell_type": "markdown",
      "metadata": {
        "id": "JjYAsLSwEkJR"
      },
      "source": [
        "In the above example, 5 random elements are selected from the sequence list CitiesList. At each iteration of the cycle, a new element is extracted from the list containingthe names of the cities.\n",
        "\n",
        "#### Selecting n random values from an array\n",
        "Many simulations require random samples from a population of input values.  The `size` option in the `choice()` function is for that purpose. Let's look at an example:"
      ]
    },
    {
      "cell_type": "code",
      "execution_count": 71,
      "metadata": {
        "colab": {
          "base_uri": "https://localhost:8080/"
        },
        "id": "vmkaLPLiEkJR",
        "outputId": "b79ecea0-5830-4be1-82be-f35dcd89b49e"
      },
      "outputs": [
        {
          "name": "stdout",
          "output_type": "stream",
          "text": [
            "Initial Data List =  range(10, 100, 10)\n",
            "Sample Data List =  [80 80 80 40 10]\n"
          ]
        }
      ],
      "source": [
        "DataList = range(10,100,10)\n",
        "print(\"Initial Data List = \",DataList)\n",
        "DataSample = rnd.choice(DataList,size=5)\n",
        "print(\"Sample Data List = \",DataSample)"
      ]
    },
    {
      "cell_type": "markdown",
      "metadata": {
        "id": "0XN2aODIEkJh"
      },
      "source": [
        "In the above example, only 5 elements of the initial list were selected, and this selection was completely random.\n",
        "### 2- Exploring Probability Distributions\n",
        "#### Uniform Distribution\n",
        "This distribution generates random values uniformly distributed over the half-open interval [a,b).\n",
        "Any value within the given interval is equally likely to be drawn by uniform distribution. Let's look at an example:"
      ]
    },
    {
      "cell_type": "code",
      "execution_count": 72,
      "metadata": {
        "colab": {
          "base_uri": "https://localhost:8080/",
          "height": 430
        },
        "id": "-zwIQOvTEkJh",
        "outputId": "51bad96d-1000-4776-d829-32a224b40d8a"
      },
      "outputs": [
        {
          "data": {
            "image/png": "[encoded data removed]",
            "text/plain": [
              "<Figure size 640x480 with 1 Axes>"
            ]
          },
          "metadata": {},
          "output_type": "display_data"
        }
      ],
      "source": [
        "#Initializing uniform distribution parameters\n",
        "a=1\n",
        "b=100\n",
        "N=100\n",
        "#Randomly generate 100 numbers between a and b\n",
        "#using uniform distribution\n",
        "X1=rnd.uniform(a,b,N)\n",
        "#Ploting X1 using matplotlib.pyplot library\n",
        "plt.plot(X1)\n",
        "plt.show()"
      ]
    },
    {
      "cell_type": "markdown",
      "metadata": {
        "id": "DQI5KuxuEkJh"
      },
      "source": [
        "Lets now analyze how the generated values are distributed in the interval considered. We draw a graph of the probability density function as follows:"
      ]
    },
    {
      "cell_type": "code",
      "execution_count": 73,
      "metadata": {
        "colab": {
          "base_uri": "https://localhost:8080/",
          "height": 430
        },
        "id": "l8Yng-4WEkJh",
        "outputId": "8094722b-7a53-4dc7-a608-2ce6520813c1"
      },
      "outputs": [
        {
          "data": {
            "image/png": "[encoded data removed]",
            "text/plain": [
              "<Figure size 640x480 with 1 Axes>"
            ]
          },
          "metadata": {},
          "output_type": "display_data"
        }
      ],
      "source": [
        "plt.figure()\n",
        "plt.hist(X1, density=True, histtype='stepfilled',\n",
        "alpha=0.2)\n",
        "plt.show()"
      ]
    },
    {
      "cell_type": "markdown",
      "metadata": {
        "id": "XOQIXtrDEkJh"
      },
      "source": [
        "Here, we can see that the generated values are distributed almost evenly throughout the range.\n",
        "Let's now see What happens if we increase the number of generated values?\n",
        "Then, we repeat the commands to generate up to 10000 random numbers uniformly distributed between 1 and 100."
      ]
    },
    {
      "cell_type": "code",
      "execution_count": 74,
      "metadata": {
        "colab": {
          "base_uri": "https://localhost:8080/",
          "height": 843
        },
        "id": "_M6WXcahEkJh",
        "outputId": "1b69ae6d-a41b-4196-d893-19eaa1ec292a"
      },
      "outputs": [
        {
          "data": {
            "image/png": "[encoded data removed]",
            "text/plain": [
              "<Figure size 640x480 with 1 Axes>"
            ]
          },
          "metadata": {},
          "output_type": "display_data"
        },
        {
          "data": {
            "image/png": "[encoded data removed]",
            "text/plain": [
              "<Figure size 640x480 with 1 Axes>"
            ]
          },
          "metadata": {},
          "output_type": "display_data"
        }
      ],
      "source": [
        "a=1\n",
        "b=100\n",
        "N=10000\n",
        "\n",
        "X2=rnd.uniform(a,b,N)\n",
        "plt.figure()\n",
        "plt.plot(X2)\n",
        "plt.show()\n",
        "\n",
        "plt.figure()\n",
        "plt.hist(X2, density=True, histtype='stepfilled',\n",
        "alpha=0.2)\n",
        "plt.show()"
      ]
    },
    {
      "cell_type": "markdown",
      "metadata": {
        "id": "yrgNJisbEkJh"
      },
      "source": [
        "Analyzing the previous histogram and comparing it with what we obtained in the case of N=100, we can see that this time, the distribution appears to be  flatter.  The distribution becomes more and more  flat as N increases.\n",
        "#### Binomial distribution\n",
        "The binomial distribution is the probability of obtaining $x$ successes in $t$ independent trials and is computed as follows:\n",
        "\n",
        "$p(x) =  \\binom{t}{x} p^t(1-p)^{t-x}, 0\\leq x \\leq t $\n",
        "where: $\\binom{t}{x}=\\frac{t!}{(t-p)!p!}$\n",
        "\n",
        "\n",
        "##### Example:\n",
        "<figure>\n",
        "  <IMG src=\"figures/one-dice.jpg\" WIDTH=100  ALIGN=\"right\">\n",
        "</figure>\n",
        "We throw a dice $10$ times and we want to study the binomial variable $x$= {number of times a number<= 3 cames out}.  The parameters of the problem are:\n",
        "<ol>\n",
        "   <li>  $t=10$ </li>\n",
        "   <li>  $p=3*\\frac{1}{6}=0.5$ </li>\n",
        "   <li> $q=1-p=0.5$ </li>\n",
        "</ol>\n",
        "\n",
        "Let's now simulate this experiment:"
      ]
    },
    {
      "cell_type": "code",
      "execution_count": 75,
      "metadata": {
        "colab": {
          "base_uri": "https://localhost:8080/",
          "height": 430
        },
        "id": "0jkQ-VHeEkJh",
        "outputId": "881c49ce-a6a0-4279-d274-a90e847eee37"
      },
      "outputs": [
        {
          "data": {
            "image/png": "[encoded data removed]",
            "text/plain": [
              "<Figure size 640x480 with 1 Axes>"
            ]
          },
          "metadata": {},
          "output_type": "display_data"
        }
      ],
      "source": [
        "#Initializing Binomial distribution parameters\n",
        "N = 1000\n",
        "t = 10\n",
        "p = 0.5\n",
        "#Generate the Binomial probability distribution\n",
        "#Then Plot\n",
        "P1 = rnd.binomial(t,p,N)\n",
        "plt.plot(P1)\n",
        "plt.show()"
      ]
    },
    {
      "cell_type": "markdown",
      "metadata": {
        "id": "CzJ0o7NaEkJh"
      },
      "source": [
        "We now evaluate the probability density function as follows:"
      ]
    },
    {
      "cell_type": "code",
      "execution_count": 76,
      "metadata": {
        "colab": {
          "base_uri": "https://localhost:8080/",
          "height": 430
        },
        "id": "O1NBu-GoEkJh",
        "outputId": "62cb3727-f56c-49c6-a462-d34021c3c323"
      },
      "outputs": [
        {
          "data": {
            "image/png": "[encoded data removed]",
            "text/plain": [
              "<Figure size 640x480 with 1 Axes>"
            ]
          },
          "metadata": {},
          "output_type": "display_data"
        }
      ],
      "source": [
        "plt.figure()\n",
        "plt.hist(P1, density=True, alpha=0.8, histtype='bar',\n",
        "color = 'green', ec='black')\n",
        "plt.show()"
      ]
    },
    {
      "cell_type": "markdown",
      "metadata": {
        "id": "fCS6IwLiEkJh"
      },
      "source": [
        "We can see that all the areas of the binomial distributions, that is, the sum of the rectangles, being the sum of probability, are worth 1.\n",
        "\n",
        "#### Normal distribution\n",
        "The normal distribution is the most used continuous distribution in statistics. Recall that the probability density distribution of the normal distribution is given as follows:\n",
        "\n",
        "$f(x)=\\frac{1}{\\sqrt{2\\pi\\sigma^2}}e^{-(x-\\mu)^2/2\\sigma^2}$\n",
        "\n",
        "##### Example:\n",
        "The average height of $18$-year old boys of $1000$ boys is normally distributed with a mean of $180$ cm and a standard deviation of $7$ cm. The parameters of the problem are:\n",
        "<ol>\n",
        "   <li>  $\\mu=180$ </li>\n",
        "   <li>  $\\sigma=7$ </li>\n",
        "</ol>\n",
        "\n",
        "Now, let’s generate a normal distribution and evaluate the probability density function with Python code as follows"
      ]
    },
    {
      "cell_type": "code",
      "execution_count": 77,
      "metadata": {
        "colab": {
          "base_uri": "https://localhost:8080/",
          "height": 673
        },
        "id": "o5LxgSYqEkJh",
        "outputId": "48d47fc7-fda5-41e5-aeec-2744349597f9"
      },
      "outputs": [
        {
          "name": "stderr",
          "output_type": "stream",
          "text": [
            "/tmp/ipykernel_3862/1745148169.py:11: UserWarning: \n",
            "\n",
            "`distplot` is a deprecated function and will be removed in seaborn v0.14.0.\n",
            "\n",
            "Please adapt your code to use either `displot` (a figure-level function with\n",
            "similar flexibility) or `histplot` (an axes-level function for histograms).\n",
            "\n",
            "For a guide to updating your code to use the new functions, please see\n",
            "https://gist.github.com/mwaskom/de44147ed2974457ad6372750bbe5751\n",
            "\n",
            "  Plot = sns.distplot(P1)\n"
          ]
        },
        {
          "data": {
            "image/png": "[encoded data removed]",
            "text/plain": [
              "<Figure size 640x480 with 1 Axes>"
            ]
          },
          "metadata": {},
          "output_type": "display_data"
        },
        {
          "data": {
            "text/plain": [
              "<Figure size 640x480 with 0 Axes>"
            ]
          },
          "metadata": {},
          "output_type": "display_data"
        }
      ],
      "source": [
        "import numpy as np\n",
        "import matplotlib.pyplot as plt\n",
        "import seaborn as sns\n",
        "#Initializing Normal distribution parameters\n",
        "mu = 180\n",
        "sigma =7\n",
        "N=1000\n",
        "#Generate the Normal probability distribution\n",
        "P1 = rnd.normal(mu, sigma, N)\n",
        "#Then Plot\n",
        "Plot = sns.distplot(P1)\n",
        "plt.figure()\n",
        "plt.show()"
      ]
    },
    {
      "cell_type": "markdown",
      "metadata": {
        "id": "tCLVgpqnEkJh"
      },
      "source": [
        "We can see that the distribution of the 1000 samples populations follow a normal distribution as ploted by `sns.distplot()` function"
      ]
    },
    {
      "cell_type": "markdown",
      "metadata": {
        "id": "ytORZuPEEkJh"
      },
      "source": [
        "## Approximating Probability throught Simulation\n",
        "### Flipping a coin\n",
        " Let's flip a coin $n$ times and computes the probability via simulation by counting the number of heads (0) and the number of tails (1). Note that the theoritical probability of getting a head or tail when flipping a coin is $p(x=0)=p(x=1)=0.5$.To compute the probability via simulation, we apply the relative frequency and probability concept seen in the course:\n",
        " $f(E)=\\frac{v}{n}\\cong P(E)$.\n",
        " Where $v$ is number of the times the event $E$ occurred and $n$ the number of tests carried out"
      ]
    },
    {
      "cell_type": "code",
      "execution_count": 78,
      "metadata": {
        "colab": {
          "base_uri": "https://localhost:8080/",
          "height": 486
        },
        "id": "utXAePwEEkJh",
        "outputId": "c386ff56-8160-425d-b88b-3a0629863f87"
      },
      "outputs": [
        {
          "name": "stdout",
          "output_type": "stream",
          "text": [
            "outcome 0 is 55 with probability=0.55\n",
            "outcome 1 is 45 with probability=0.45\n"
          ]
        },
        {
          "data": {
            "image/png": "[encoded data removed]",
            "text/plain": [
              "<Figure size 640x480 with 1 Axes>"
            ]
          },
          "metadata": {},
          "output_type": "display_data"
        }
      ],
      "source": [
        "rnd.seed(10)\n",
        "n=100\n",
        "flip = rnd.randint(0, 2, n)\n",
        "\n",
        "outcomes = np.zeros(2, dtype='int') # Two outcomes. heads are stored in outcome[0], tails in outcome[1]\n",
        "for i in range (2):\n",
        "    outcomes[i] = np.count_nonzero(flip == i)\n",
        "    print(f'outcome {i} is {outcomes[i]} with probability={outcomes[i]/n}')\n",
        "\n",
        "plt.bar(range(0, 2), outcomes/n)\n",
        "plt.xticks(range(0, 2))\n",
        "plt.xlabel('Probability of Head/tails')\n",
        "plt.ylabel('occurence in '+str(n)+' trials');"
      ]
    },
    {
      "cell_type": "markdown",
      "metadata": {
        "id": "pAho_30rEkJh"
      },
      "source": [
        "Now let's increase the numner of experiments and plot the probability simulation results"
      ]
    },
    {
      "cell_type": "code",
      "execution_count": 79,
      "metadata": {
        "colab": {
          "base_uri": "https://localhost:8080/",
          "height": 468
        },
        "id": "T4Qji7voEkJh",
        "outputId": "daa9218a-d86b-42ce-e218-8a8a4036e825"
      },
      "outputs": [
        {
          "data": {
            "image/png": "[encoded data removed]",
            "text/plain": [
              "<Figure size 640x480 with 1 Axes>"
            ]
          },
          "metadata": {},
          "output_type": "display_data"
        }
      ],
      "source": [
        "experiments=np.arange(100, 100001, 100)\n",
        "\n",
        "outcomes_head=np.zeros(len(experiments))\n",
        "outcomes_tail=np.zeros(len(experiments))\n",
        "\n",
        "\n",
        "\n",
        "\n",
        "rnd.seed(10)\n",
        "i=0\n",
        "for n in experiments:\n",
        "    flip = rnd.randint(0, 2, n)\n",
        "    outcomes_head[i] = np.count_nonzero(flip == 0)/n\n",
        "    outcomes_tail[i] = np.count_nonzero(flip == 1)/n\n",
        "    i=i+1\n",
        "\n",
        "\n",
        "plt.plot(experiments, outcomes_head,label='Simulation (Head)')\n",
        "plt.plot(experiments, outcomes_tail,label='Simulation (Tail)')\n",
        "plt.hlines(y = 0.5, xmin = experiments[0], xmax = experiments[-1],colors=\"black\",label='Theoritical')\n",
        "plt.xlabel('Itteration $n$')\n",
        "plt.ylabel('Probability');\n",
        "# plt.legend()\n",
        "plt.show()"
      ]
    },
    {
      "cell_type": "markdown",
      "metadata": {
        "id": "3cjOrrtKEkJn"
      },
      "source": [
        "We can see that the probability computed by simulation eventually converges to the true value as more experiments are conducted."
      ]
    },
    {
      "cell_type": "markdown",
      "metadata": {
        "id": "WJK2vdFYEkJn"
      },
      "source": [
        "## Challenges\n",
        "### Challenge 5: Birth Weight of New Born Babies\n",
        "The birth weight (in kilograms) of the $3.226$ new born babies is normally distributed with a mean of $3.39$ klg and a standard deviation of $0.55$ klg.\n",
        "Define your problem parameters.\n",
        "Generate the normal distribution and evaluate the probability density function."
      ]
    },
    {
      "cell_type": "code",
      "execution_count": 80,
      "metadata": {
        "id": "NC8mg3OUEkJn"
      },
      "outputs": [
        {
          "data": {
            "image/png": "[encoded data removed]",
            "text/plain": [
              "<Figure size 640x480 with 1 Axes>"
            ]
          },
          "metadata": {},
          "output_type": "display_data"
        }
      ],
      "source": [
        "import numpy as np\n",
        "import matplotlib.pyplot as plt\n",
        "from scipy.stats import norm\n",
        "\n",
        "total_babies = 3226\n",
        "mean = 3.39\n",
        "sigma = 0.55\n",
        "\n",
        "dist = norm(loc=mean, scale=sigma)\n",
        "\n",
        "x = np.linspace(mean - 3*sigma, mean + 3*sigma, 100)\n",
        "pdf = dist.pdf(x)\n",
        "\n",
        "plt.plot(x, pdf)\n",
        "plt.xlabel('Birth Weight (kg)')\n",
        "plt.ylabel('Probability Density')\n",
        "plt.title('Normal Distribution of Birth Weights')\n",
        "plt.show()"
      ]
    },
    {
      "cell_type": "markdown",
      "metadata": {
        "id": "xyc_1HV0EkJn"
      },
      "source": [
        "### Challenge 6: Crime Survey\n",
        "An FBI survey of 1000 reports shows that about 80% of all property crimes go unsolved. Suppose that in your town 3 such crimes are committed and they are each deemed independent of each other.\n",
        "<ol>\n",
        "  <li>Simulate this experiement and evaluate the probability density function</li>\n",
        "  <li>Compute the probability that 1 of 3 of these crimes will be solved?</li>\n",
        "</ol>\n",
        "\n",
        "#### Hint\n",
        "The problem above follows a binomial distribution since the following conditions are satisfied:\n",
        "<ul>\n",
        "  <li>Does it satisfy a fixed number of trials? YES the number of trials is fixed at 3 </li>\n",
        "  <li>Does it have only 2 outcomes? YES (Solved and unsolved)</li>\n",
        "  <li>Do all the trials have the same probability of success? YES (p = (100%-80%)=0.2)</li>\n",
        "</ul>\n"
      ]
    },
    {
      "cell_type": "code",
      "execution_count": 91,
      "metadata": {
        "id": "xgaFrga0EkJn"
      },
      "outputs": [
        {
          "data": {
            "image/png": "[encoded data removed]",
            "text/plain": [
              "<Figure size 640x480 with 1 Axes>"
            ]
          },
          "metadata": {},
          "output_type": "display_data"
        },
        {
          "name": "stdout",
          "output_type": "stream",
          "text": [
            "the proba is:  0.38400000000000006\n"
          ]
        }
      ],
      "source": [
        "import numpy as np\n",
        "import matplotlib.pyplot as plt\n",
        "from scipy.stats import binom\n",
        "\n",
        "trials = 3\n",
        "\n",
        "dist = binom(n=trials, p=0.2)\n",
        "\n",
        "x = np.arange(trials+1)\n",
        "pmf = dist.pmf(x)\n",
        "\n",
        "plt.bar(x, pmf)\n",
        "plt.xlabel('nbr of crimes solved')\n",
        "plt.ylabel('proba')\n",
        "plt.title('binomial distr')\n",
        "plt.show()\n",
        "\n",
        "prob_one_solved = dist.pmf(1)\n",
        "print(\"the proba is: \", prob_one_solved)\n"
      ]
    },
    {
      "cell_type": "markdown",
      "metadata": {
        "id": "p-LOxNmgEkJn"
      },
      "source": [
        " ### Challenge 7: Throwing a dice\n",
        "Using the 1st code in the above experiment (Flipping a coin),  throw a dice with $n=100$ times and report how many times you throw $1, 2, 3, 4, 5,$ and $6$. Use a seed of $33$. Make sure that the reported values add up to $100$. What is the theoritical probability of each event."
      ]
    },
    {
      "cell_type": "code",
      "execution_count": 92,
      "metadata": {
        "id": "UEzBUmM9EkJn"
      },
      "outputs": [
        {
          "name": "stdout",
          "output_type": "stream",
          "text": [
            "nbr of times 1 is thrown: 17\n",
            "nbr of times 2 is thrown: 17\n",
            "nbr of times 3 is thrown: 15\n",
            "nbr of times 4 is thrown: 24\n",
            "nbr of times 5 is thrown: 19\n",
            "nbr of times 6 is thrown: 8\n",
            "total:  100\n"
          ]
        }
      ],
      "source": [
        "import numpy as np\n",
        "\n",
        "np.random.seed(33)\n",
        "\n",
        "dice_throws = np.random.randint(1, 7, size=100)\n",
        "\n",
        "ones = np.sum(dice_throws == 1)\n",
        "twos = np.sum(dice_throws == 2)\n",
        "threes = np.sum(dice_throws == 3)\n",
        "fours = np.sum(dice_throws == 4)\n",
        "fives = np.sum(dice_throws == 5)\n",
        "sixes = np.sum(dice_throws == 6)\n",
        "\n",
        "# Report the results\n",
        "print(\"nbr of times 1 is thrown:\", ones)\n",
        "print(\"nbr of times 2 is thrown:\", twos)\n",
        "print(\"nbr of times 3 is thrown:\", threes)\n",
        "print(\"nbr of times 4 is thrown:\", fours)\n",
        "print(\"nbr of times 5 is thrown:\", fives)\n",
        "print(\"nbr of times 6 is thrown:\", sixes)\n",
        "print(\"total: \", ones + twos + threes + fours + fives + sixes)"
      ]
    },
    {
      "cell_type": "markdown",
      "metadata": {
        "id": "KInH4IfVEkJn"
      },
      "source": [
        "Now Using the 2nd code in the Flipping a coin experiment, plot the probability simulation results and compare it with the theoritical probability."
      ]
    },
    {
      "cell_type": "code",
      "execution_count": 93,
      "metadata": {
        "id": "L4gD81IYEkJn"
      },
      "outputs": [
        {
          "data": {
            "image/png": "[encoded data removed]",
            "text/plain": [
              "<Figure size 640x480 with 1 Axes>"
            ]
          },
          "metadata": {},
          "output_type": "display_data"
        }
      ],
      "source": [
        "import numpy as np\n",
        "import matplotlib.pyplot as plt\n",
        "\n",
        "np.random.seed(33)\n",
        "\n",
        "dice_throws = np.random.randint(1, 7, size=100)\n",
        "\n",
        "ones = np.sum(dice_throws == 1)\n",
        "twos = np.sum(dice_throws == 2)\n",
        "threes = np.sum(dice_throws == 3)\n",
        "fours = np.sum(dice_throws == 4)\n",
        "fives = np.sum(dice_throws == 5)\n",
        "sixes = np.sum(dice_throws == 6)\n",
        "\n",
        "theoretical_prob = 1/6 #theoretical proba\n",
        "\n",
        "simulated_prob_ones = ones / 100\n",
        "simulated_prob_twos = twos / 100\n",
        "simulated_prob_threes = threes / 100\n",
        "simulated_prob_fours = fours / 100\n",
        "simulated_prob_fives = fives / 100\n",
        "simulated_prob_sixes = sixes / 100\n",
        "\n",
        "x = np.arange(1, 7)\n",
        "simulated_probs = [simulated_prob_ones, simulated_prob_twos, simulated_prob_threes, simulated_prob_fours, simulated_prob_fives, simulated_prob_sixes]\n",
        "plt.bar(x, simulated_probs, label='simulated proba')\n",
        "plt.axhline(y=theoretical_prob, color='r', linestyle='-', label='theoretical proba')\n",
        "plt.xlabel('dice nbr')\n",
        "plt.ylabel('proba')\n",
        "plt.title('simulated and theoretical proba')\n",
        "plt.legend()\n",
        "plt.show()"
      ]
    },
    {
      "cell_type": "markdown",
      "metadata": {
        "id": "rbN-Gb8bEkJn"
      },
      "source": [
        "### Challenge 8: Drawing balls from a box\n",
        "Suppose there are 12 balls in a box: 4 black, 4 red, and 4 blue. We want to make a program that draws n balls at random from the box. It is natural to represent the collection of balls as a list. Each list element can be an integer 1, 2, or 3, since we have 3 different types of balls, but it would be easier to work with the program if the balls could have a color instead of an integer number. This is easily accomplished by defining color names (See `new_box()` function below). Drawing a ball at random is performed by the `draw_ball()` function. Similarly, drawing n balls can be performed using the `draw_n_balls()` function."
      ]
    },
    {
      "cell_type": "code",
      "execution_count": 94,
      "metadata": {
        "id": "5oktHSVEEkJn"
      },
      "outputs": [],
      "source": [
        "import numpy.random as rnd\n",
        "\n",
        "def new_box():\n",
        "    colors = 'black', 'red', 'blue'   # (tuple of strings)\n",
        "    box = []\n",
        "    for color in colors:\n",
        "        for i in range(4):\n",
        "            box.append(color)\n",
        "    return box\n",
        "\n",
        "def draw_ball(box):\n",
        "    color = rnd.choice(box)\n",
        "    box.remove(color)\n",
        "    return color, box\n",
        "\n",
        "def draw_n_balls(box,n):\n",
        "# Draw n balls from the box\n",
        "    balls = []\n",
        "    for i in range(n):\n",
        "        color, box = draw_ball(box)\n",
        "        balls.append(color)\n",
        "    return balls\n"
      ]
    },
    {
      "cell_type": "markdown",
      "metadata": {
        "id": "V1fvSxEbEkJn"
      },
      "source": [
        "#### Question\n",
        "Now, we ask you to compute the probability of drawing 2 or more black balls from that box via experiemntal simulation. To do so, perform `N` experiments, count how many times `M` you get 2 or more black balls, and estimate the probability as `M/N`. Each experiment consists of making the box list, drawing a number of balls, and counting how many black balls we got. The latter task is easy with the count method in list objects: `box.count('black')` counts how many elements with value 'black' we have in the list box.\n",
        "Given:\n",
        "<ul>\n",
        "  <li>n as how  many balls are to be drawn? </li>\n",
        "  <li>N as how many experiments?</li>\n",
        "</ul>\n",
        " Write a python program using the functions defined just above to compute the required probability.\n",
        " Run your program with n=5 (drawing 5 balls each time) and N=4000 and reports the probability result.\n",
        " Try with other n values and report what differs from the obtained results."
      ]
    },
    {
      "cell_type": "code",
      "execution_count": 97,
      "metadata": {
        "colab": {
          "base_uri": "https://localhost:8080/"
        },
        "id": "RwNf4RAcEkJn",
        "outputId": "951602b3-bf28-497a-bd5f-23ae932aaa0e"
      },
      "outputs": [
        {
          "name": "stdout",
          "output_type": "stream",
          "text": [
            "proba:0.09\n"
          ]
        }
      ],
      "source": [
        "n = 2\n",
        "N = 4000\n",
        "proba = 0\n",
        "\n",
        "for i in range(N):\n",
        "    box = new_box()\n",
        "    balls = draw_n_balls(box, n)\n",
        "    num_black_balls = balls.count('black')\n",
        "    if num_black_balls >= 2:\n",
        "        proba += 1\n",
        "prob = proba / N\n",
        "\n",
        "print ('proba:' \"{:.2f}\".format(prob))"
      ]
    },
    {
      "cell_type": "code",
      "execution_count": 98,
      "metadata": {},
      "outputs": [
        {
          "name": "stdout",
          "output_type": "stream",
          "text": [
            "proba:0.58\n"
          ]
        }
      ],
      "source": [
        "n = 5\n",
        "N = 4000\n",
        "proba = 0\n",
        "\n",
        "for i in range(N):\n",
        "    box = new_box()\n",
        "    balls = draw_n_balls(box, n)\n",
        "    num_black_balls = balls.count('black')\n",
        "    if num_black_balls >= 2:\n",
        "        proba += 1\n",
        "prob = proba / N\n",
        "\n",
        "print ('proba:' \"{:.2f}\".format(prob))"
      ]
    },
    {
      "cell_type": "markdown",
      "metadata": {
        "id": "9Ha-yzrzEkJn"
      },
      "source": [
        "## Simulating Synthetic Data using Probability Distributions\n",
        "Synthetic data is computer-generated data that is similar to real-world data. The primary purpose of synthetics data is to increase the privacy and integrity of systems. For example, to protect the Personally Identifiable Information (PII) or Personal Health Information (PHI) of the users, companies have to implement data protection strategies. Using synthetic data can help companies test new applications and protect user privacy.\n",
        "\n",
        "For this purpose, We will use the Python Faker library. Faker is an open-source Python package used to simulate a fake dataset for application testing, bootstrapping the database, and maintaining user anonymity.\n",
        "To learn about more advanced functions, check out the Faker documentation (https://faker.readthedocs.io/en/master/fakerclass.html)."
      ]
    },
    {
      "cell_type": "code",
      "execution_count": 86,
      "metadata": {
        "colab": {
          "base_uri": "https://localhost:8080/"
        },
        "id": "MBkAI_ZVEkJn",
        "outputId": "c98723f9-77a8-4cfc-fc30-2f93e478f2af"
      },
      "outputs": [
        {
          "name": "stdout",
          "output_type": "stream",
          "text": [
            "Requirement already satisfied: Faker in /home/mina/anaconda3/lib/python3.12/site-packages (36.1.1)\n",
            "Requirement already satisfied: tzdata in /home/mina/anaconda3/lib/python3.12/site-packages (from Faker) (2023.3)\n",
            "\u001b[33mWARNING: Error parsing dependencies of textract: .* suffix can only be used with `==` or `!=` operators\n",
            "    extract-msg (<=0.29.*)\n",
            "                 ~~~~~~~^\u001b[0m\u001b[33m\n",
            "\u001b[0mNote: you may need to restart the kernel to use updated packages.\n"
          ]
        }
      ],
      "source": [
        "%pip install Faker"
      ]
    },
    {
      "cell_type": "code",
      "execution_count": 87,
      "metadata": {
        "colab": {
          "base_uri": "https://localhost:8080/"
        },
        "id": "mbvnT51HEkJn",
        "outputId": "cacfb176-e37e-4ed4-d73a-2547da360dc8"
      },
      "outputs": [
        {
          "name": "stdout",
          "output_type": "stream",
          "text": [
            "Requirement already satisfied: pandas in /home/mina/anaconda3/lib/python3.12/site-packages (2.2.3)\n",
            "Requirement already satisfied: numpy>=1.26.0 in /home/mina/anaconda3/lib/python3.12/site-packages (from pandas) (1.26.4)\n",
            "Requirement already satisfied: python-dateutil>=2.8.2 in /home/mina/anaconda3/lib/python3.12/site-packages (from pandas) (2.9.0.post0)\n",
            "Requirement already satisfied: pytz>=2020.1 in /home/mina/anaconda3/lib/python3.12/site-packages (from pandas) (2024.1)\n",
            "Requirement already satisfied: tzdata>=2022.7 in /home/mina/anaconda3/lib/python3.12/site-packages (from pandas) (2023.3)\n",
            "Requirement already satisfied: six>=1.5 in /home/mina/anaconda3/lib/python3.12/site-packages (from python-dateutil>=2.8.2->pandas) (1.16.0)\n",
            "\u001b[33mWARNING: Error parsing dependencies of textract: .* suffix can only be used with `==` or `!=` operators\n",
            "    extract-msg (<=0.29.*)\n",
            "                 ~~~~~~~^\u001b[0m\u001b[33m\n",
            "\u001b[0mNote: you may need to restart the kernel to use updated packages.\n"
          ]
        }
      ],
      "source": [
        "%pip install pandas"
      ]
    },
    {
      "cell_type": "markdown",
      "metadata": {
        "id": "3h-ZSOYEEkJn"
      },
      "source": [
        "Faker comes with command line support, Pytest fixtures, Localization (support different regions), reproducibility, and dynamic provider (customizing it to your needs).\n",
        "You can also use Faker's basic functionalities to create a quick dataset and customize it to your needs. In the table below, you can check various Faker functions and the purpose.\n",
        "\n",
        "| Faker Function  | Purpose                                       |\n",
        "|-----------------|-----------------------------------------------|\n",
        "| name()          | Generates fake full name                      |\n",
        "| credit_card_full() | Generates credit card number with expiry and CVV |\n",
        "| email()         | Generates fake email address                   |\n",
        "| url()           | Generate fake URL                              |\n",
        "| phone_number()  | Generates fake phone number with country code  |\n",
        "| address()       | Generates fake full address                    |\n",
        "| license_plate() | Generates fake license plate                   |\n",
        "| currency()      | Generate tuple of currency code and full form  |\n",
        "| color_name()    | Generate random color name                     |\n",
        "| local_latlng()  | Generate latitude, longitude, area, country, and states |\n",
        "| domain_name()   | Generate the fake website based on fake person name |\n",
        "| text()          | Generate the fake small text                   |\n",
        "| company()       | Generate fake company name                     |\n",
        "\n",
        "\n",
        "\n",
        "\n"
      ]
    },
    {
      "cell_type": "markdown",
      "metadata": {
        "id": "YNE5BR4XEkJn"
      },
      "source": [
        "### Synthetic Data Simulation Examples\n",
        "In this section, we will use Python Faker to simulate synthetics data. It consists of an example of how you can use `Faker` for various tasks. The main goal is to develop a privacy-centric approach for testing systems.\n",
        "\n",
        "First, we will initiate a fake generator using `Faker()`. By default, it is using the `en_US` locale."
      ]
    },
    {
      "cell_type": "code",
      "execution_count": 88,
      "metadata": {
        "id": "2JuwNuY_EkJn"
      },
      "outputs": [],
      "source": [
        "from faker import Faker\n",
        "fake = Faker()"
      ]
    },
    {
      "cell_type": "markdown",
      "metadata": {
        "id": "ecgZbVOWEkJn"
      },
      "source": [
        "#### Example:\n",
        "In this example, we will create a pandas dataframe that contains fake data.\n",
        "\n",
        "- Create empty pandas dataframe (data)\n",
        "- Pass it through x number of loops to create multiple rows\n",
        "- Use  prebuilt  functions such as `random_int()`, `name()`, `address()`, `latitude()`, and `longitude()`  to generate the columns accordingley.\n",
        "- Use `uniform()` prebult random function to generate the `Weight` feature.\n",
        "- Run the `input_data()` function with n_rows=50"
      ]
    },
    {
      "cell_type": "code",
      "execution_count": 89,
      "metadata": {
        "colab": {
          "base_uri": "https://localhost:8080/",
          "height": 1000
        },
        "id": "nVYrwm2SEkJn",
        "outputId": "7909945f-69cb-4daf-88c0-8610564a50f3"
      },
      "outputs": [
        {
          "data": {
            "text/html": [
              "<div>\n",
              "<style scoped>\n",
              "    .dataframe tbody tr th:only-of-type {\n",
              "        vertical-align: middle;\n",
              "    }\n",
              "\n",
              "    .dataframe tbody tr th {\n",
              "        vertical-align: top;\n",
              "    }\n",
              "\n",
              "    .dataframe thead th {\n",
              "        text-align: right;\n",
              "    }\n",
              "</style>\n",
              "<table border=\"1\" class=\"dataframe\">\n",
              "  <thead>\n",
              "    <tr style=\"text-align: right;\">\n",
              "      <th></th>\n",
              "      <th>name</th>\n",
              "      <th>age</th>\n",
              "      <th>Weight</th>\n",
              "      <th>address</th>\n",
              "      <th>latitude</th>\n",
              "      <th>longitude</th>\n",
              "    </tr>\n",
              "  </thead>\n",
              "  <tbody>\n",
              "    <tr>\n",
              "      <th>0</th>\n",
              "      <td>Brandy Phillips</td>\n",
              "      <td>29.0</td>\n",
              "      <td>83.060495</td>\n",
              "      <td>05227 Salazar Orchard\\nDebraside, NJ 62644</td>\n",
              "      <td>-55.2053615</td>\n",
              "      <td>0.632960</td>\n",
              "    </tr>\n",
              "    <tr>\n",
              "      <th>1</th>\n",
              "      <td>Thomas Larson</td>\n",
              "      <td>34.0</td>\n",
              "      <td>92.539982</td>\n",
              "      <td>893 Ronald Courts\\nPort Jacobbury, MA 19300</td>\n",
              "      <td>-42.908539</td>\n",
              "      <td>-120.532521</td>\n",
              "    </tr>\n",
              "    <tr>\n",
              "      <th>2</th>\n",
              "      <td>Rebecca Martinez</td>\n",
              "      <td>95.0</td>\n",
              "      <td>71.600128</td>\n",
              "      <td>78891 Miles Unions\\nWilliamsmouth, CA 42377</td>\n",
              "      <td>-75.8563775</td>\n",
              "      <td>-51.445598</td>\n",
              "    </tr>\n",
              "    <tr>\n",
              "      <th>3</th>\n",
              "      <td>Nicole Anderson</td>\n",
              "      <td>95.0</td>\n",
              "      <td>71.596068</td>\n",
              "      <td>4163 Michael Points Suite 713\\nKevinchester, M...</td>\n",
              "      <td>-59.351261</td>\n",
              "      <td>172.527310</td>\n",
              "    </tr>\n",
              "    <tr>\n",
              "      <th>4</th>\n",
              "      <td>Troy Grimes</td>\n",
              "      <td>40.0</td>\n",
              "      <td>80.243444</td>\n",
              "      <td>7443 Cassandra Green\\nLake Danielchester, NM 0...</td>\n",
              "      <td>-3.8213535</td>\n",
              "      <td>-51.263643</td>\n",
              "    </tr>\n",
              "    <tr>\n",
              "      <th>5</th>\n",
              "      <td>Kathryn Mercado</td>\n",
              "      <td>61.0</td>\n",
              "      <td>71.843103</td>\n",
              "      <td>45242 Davis Stream\\nSouth Patricia, CO 15391</td>\n",
              "      <td>-71.7368125</td>\n",
              "      <td>-13.351587</td>\n",
              "    </tr>\n",
              "    <tr>\n",
              "      <th>6</th>\n",
              "      <td>Candice Holloway</td>\n",
              "      <td>92.0</td>\n",
              "      <td>79.498825</td>\n",
              "      <td>79441 Connor Divide Apt. 010\\nKevinmouth, WV 5...</td>\n",
              "      <td>85.094362</td>\n",
              "      <td>7.039667</td>\n",
              "    </tr>\n",
              "    <tr>\n",
              "      <th>7</th>\n",
              "      <td>Jennifer Kaiser</td>\n",
              "      <td>69.0</td>\n",
              "      <td>84.127367</td>\n",
              "      <td>144 Bonilla Courts Suite 138\\nLake John, NC 04986</td>\n",
              "      <td>63.0441225</td>\n",
              "      <td>-7.327368</td>\n",
              "    </tr>\n",
              "    <tr>\n",
              "      <th>8</th>\n",
              "      <td>Jennifer Mosley MD</td>\n",
              "      <td>61.0</td>\n",
              "      <td>61.418793</td>\n",
              "      <td>04858 Nichole Station Suite 543\\nWest Dylan, M...</td>\n",
              "      <td>-14.447111</td>\n",
              "      <td>107.772601</td>\n",
              "    </tr>\n",
              "    <tr>\n",
              "      <th>9</th>\n",
              "      <td>Stacy Sanchez</td>\n",
              "      <td>69.0</td>\n",
              "      <td>97.743667</td>\n",
              "      <td>PSC 3898, Box 7816\\nAPO AP 54983</td>\n",
              "      <td>-13.940613</td>\n",
              "      <td>-74.258366</td>\n",
              "    </tr>\n",
              "    <tr>\n",
              "      <th>10</th>\n",
              "      <td>Stephanie Blanchard</td>\n",
              "      <td>94.0</td>\n",
              "      <td>77.125471</td>\n",
              "      <td>44092 Lori Fall Apt. 701\\nNorth Geraldton, WI ...</td>\n",
              "      <td>-57.5094225</td>\n",
              "      <td>-75.838574</td>\n",
              "    </tr>\n",
              "    <tr>\n",
              "      <th>11</th>\n",
              "      <td>Rhonda Palmer</td>\n",
              "      <td>64.0</td>\n",
              "      <td>94.048292</td>\n",
              "      <td>21641 Scott River Suite 917\\nAnthonyville, MN ...</td>\n",
              "      <td>0.987476</td>\n",
              "      <td>164.942880</td>\n",
              "    </tr>\n",
              "    <tr>\n",
              "      <th>12</th>\n",
              "      <td>Michael Martin</td>\n",
              "      <td>77.0</td>\n",
              "      <td>91.619908</td>\n",
              "      <td>USNS Warren\\nFPO AP 54050</td>\n",
              "      <td>-84.3653925</td>\n",
              "      <td>-175.686624</td>\n",
              "    </tr>\n",
              "    <tr>\n",
              "      <th>13</th>\n",
              "      <td>Cassandra Gordon</td>\n",
              "      <td>79.0</td>\n",
              "      <td>61.483415</td>\n",
              "      <td>89336 Kelley Motorway Apt. 215\\nNew Jennifer, ...</td>\n",
              "      <td>-50.8159995</td>\n",
              "      <td>-25.921281</td>\n",
              "    </tr>\n",
              "    <tr>\n",
              "      <th>14</th>\n",
              "      <td>Loretta Williamson</td>\n",
              "      <td>58.0</td>\n",
              "      <td>89.791477</td>\n",
              "      <td>456 Jeremy Ramp Apt. 962\\nCarterberg, OK 93075</td>\n",
              "      <td>84.634770</td>\n",
              "      <td>60.580967</td>\n",
              "    </tr>\n",
              "    <tr>\n",
              "      <th>15</th>\n",
              "      <td>Jillian Jefferson</td>\n",
              "      <td>67.0</td>\n",
              "      <td>84.382487</td>\n",
              "      <td>64415 Arthur Streets Suite 675\\nMatthewville, ...</td>\n",
              "      <td>79.003914</td>\n",
              "      <td>19.482319</td>\n",
              "    </tr>\n",
              "    <tr>\n",
              "      <th>16</th>\n",
              "      <td>Christie Berg</td>\n",
              "      <td>50.0</td>\n",
              "      <td>76.628017</td>\n",
              "      <td>7417 Werner Club Suite 617\\nWest Gregoryburgh,...</td>\n",
              "      <td>-21.9631645</td>\n",
              "      <td>29.407167</td>\n",
              "    </tr>\n",
              "    <tr>\n",
              "      <th>17</th>\n",
              "      <td>Mary Smith</td>\n",
              "      <td>32.0</td>\n",
              "      <td>71.087932</td>\n",
              "      <td>0076 Holly Point\\nSouth Jason, MN 60645</td>\n",
              "      <td>85.797892</td>\n",
              "      <td>-73.198412</td>\n",
              "    </tr>\n",
              "    <tr>\n",
              "      <th>18</th>\n",
              "      <td>Tammy Hoffman</td>\n",
              "      <td>24.0</td>\n",
              "      <td>64.902732</td>\n",
              "      <td>925 Paul Point\\nWest Matthew, MT 03045</td>\n",
              "      <td>-8.2049195</td>\n",
              "      <td>-31.732168</td>\n",
              "    </tr>\n",
              "    <tr>\n",
              "      <th>19</th>\n",
              "      <td>Kimberly Howard</td>\n",
              "      <td>56.0</td>\n",
              "      <td>80.916271</td>\n",
              "      <td>466 Gabriela Wells Suite 238\\nWest Jennifermou...</td>\n",
              "      <td>-62.680031</td>\n",
              "      <td>118.182089</td>\n",
              "    </tr>\n",
              "    <tr>\n",
              "      <th>20</th>\n",
              "      <td>Jason Irwin</td>\n",
              "      <td>58.0</td>\n",
              "      <td>74.603499</td>\n",
              "      <td>8586 Snyder Expressway\\nSouth Kellymouth, AK 8...</td>\n",
              "      <td>-78.443283</td>\n",
              "      <td>59.982482</td>\n",
              "    </tr>\n",
              "    <tr>\n",
              "      <th>21</th>\n",
              "      <td>Mary Nelson</td>\n",
              "      <td>30.0</td>\n",
              "      <td>78.034773</td>\n",
              "      <td>93946 Johnson Spring Apt. 113\\nRachelmouth, NH...</td>\n",
              "      <td>11.954259</td>\n",
              "      <td>2.746928</td>\n",
              "    </tr>\n",
              "    <tr>\n",
              "      <th>22</th>\n",
              "      <td>Richard Wilson</td>\n",
              "      <td>62.0</td>\n",
              "      <td>82.002525</td>\n",
              "      <td>177 Hughes Motorway\\nWilsonton, NM 28810</td>\n",
              "      <td>-1.747090</td>\n",
              "      <td>-122.113166</td>\n",
              "    </tr>\n",
              "    <tr>\n",
              "      <th>23</th>\n",
              "      <td>Amy Pearson</td>\n",
              "      <td>80.0</td>\n",
              "      <td>91.444426</td>\n",
              "      <td>52155 Beth Parkway\\nJohnsonstad, HI 09681</td>\n",
              "      <td>55.6873475</td>\n",
              "      <td>-27.332657</td>\n",
              "    </tr>\n",
              "    <tr>\n",
              "      <th>24</th>\n",
              "      <td>Heather Walker</td>\n",
              "      <td>23.0</td>\n",
              "      <td>69.784254</td>\n",
              "      <td>85188 Teresa Ports\\nEricside, ID 30280</td>\n",
              "      <td>69.105293</td>\n",
              "      <td>-68.987340</td>\n",
              "    </tr>\n",
              "    <tr>\n",
              "      <th>25</th>\n",
              "      <td>Maria Brown</td>\n",
              "      <td>26.0</td>\n",
              "      <td>76.529478</td>\n",
              "      <td>9985 Victoria Tunnel Suite 748\\nWhitechester, ...</td>\n",
              "      <td>7.8822195</td>\n",
              "      <td>-85.005453</td>\n",
              "    </tr>\n",
              "    <tr>\n",
              "      <th>26</th>\n",
              "      <td>Sara Rodriguez</td>\n",
              "      <td>92.0</td>\n",
              "      <td>66.624269</td>\n",
              "      <td>5558 Hunter Courts Suite 852\\nLoveland, CA 26533</td>\n",
              "      <td>-37.2659235</td>\n",
              "      <td>-104.340395</td>\n",
              "    </tr>\n",
              "    <tr>\n",
              "      <th>27</th>\n",
              "      <td>Christopher Jordan</td>\n",
              "      <td>49.0</td>\n",
              "      <td>63.489392</td>\n",
              "      <td>04466 Hurst Fields Apt. 547\\nSouth Katelynstad...</td>\n",
              "      <td>-23.010163</td>\n",
              "      <td>22.893186</td>\n",
              "    </tr>\n",
              "    <tr>\n",
              "      <th>28</th>\n",
              "      <td>Marcus Morales</td>\n",
              "      <td>39.0</td>\n",
              "      <td>89.514336</td>\n",
              "      <td>36013 Debbie Springs\\nHortonborough, CT 82598</td>\n",
              "      <td>-75.271930</td>\n",
              "      <td>-76.392413</td>\n",
              "    </tr>\n",
              "    <tr>\n",
              "      <th>29</th>\n",
              "      <td>Evan Gibson</td>\n",
              "      <td>88.0</td>\n",
              "      <td>78.364791</td>\n",
              "      <td>4691 Maureen Knoll\\nVazqueztown, WI 74347</td>\n",
              "      <td>1.751467</td>\n",
              "      <td>-21.407617</td>\n",
              "    </tr>\n",
              "    <tr>\n",
              "      <th>30</th>\n",
              "      <td>Robert Todd</td>\n",
              "      <td>53.0</td>\n",
              "      <td>78.328250</td>\n",
              "      <td>8169 Manning Track Apt. 757\\nEast Raymondchest...</td>\n",
              "      <td>75.6668885</td>\n",
              "      <td>-161.679093</td>\n",
              "    </tr>\n",
              "    <tr>\n",
              "      <th>31</th>\n",
              "      <td>Dennis Burton</td>\n",
              "      <td>99.0</td>\n",
              "      <td>96.364301</td>\n",
              "      <td>879 Logan Ford\\nLake Nicoleshire, OH 67334</td>\n",
              "      <td>-78.8486405</td>\n",
              "      <td>-25.535150</td>\n",
              "    </tr>\n",
              "    <tr>\n",
              "      <th>32</th>\n",
              "      <td>Mary Brown</td>\n",
              "      <td>64.0</td>\n",
              "      <td>83.536419</td>\n",
              "      <td>887 William Walk\\nAudreyshire, NM 08187</td>\n",
              "      <td>25.276716</td>\n",
              "      <td>-166.160612</td>\n",
              "    </tr>\n",
              "    <tr>\n",
              "      <th>33</th>\n",
              "      <td>Hannah Cohen DDS</td>\n",
              "      <td>50.0</td>\n",
              "      <td>67.611176</td>\n",
              "      <td>3353 Troy Corners\\nWest Daniel, KY 54389</td>\n",
              "      <td>-5.1911555</td>\n",
              "      <td>128.418358</td>\n",
              "    </tr>\n",
              "    <tr>\n",
              "      <th>34</th>\n",
              "      <td>Stuart Mckinney</td>\n",
              "      <td>90.0</td>\n",
              "      <td>88.600864</td>\n",
              "      <td>158 Henderson Village\\nPort Lindseyton, KY 48323</td>\n",
              "      <td>-70.7854545</td>\n",
              "      <td>166.071092</td>\n",
              "    </tr>\n",
              "    <tr>\n",
              "      <th>35</th>\n",
              "      <td>Mathew Figueroa</td>\n",
              "      <td>58.0</td>\n",
              "      <td>77.821978</td>\n",
              "      <td>291 Pierce Station Suite 563\\nEast Edward, VI ...</td>\n",
              "      <td>-76.391848</td>\n",
              "      <td>-177.237155</td>\n",
              "    </tr>\n",
              "    <tr>\n",
              "      <th>36</th>\n",
              "      <td>Alicia Hunt</td>\n",
              "      <td>21.0</td>\n",
              "      <td>68.478660</td>\n",
              "      <td>05562 Christine Turnpike\\nAllenfort, RI 97032</td>\n",
              "      <td>53.1951485</td>\n",
              "      <td>69.957463</td>\n",
              "    </tr>\n",
              "    <tr>\n",
              "      <th>37</th>\n",
              "      <td>Thomas Allen</td>\n",
              "      <td>89.0</td>\n",
              "      <td>98.171258</td>\n",
              "      <td>026 Melissa Summit\\nDavidtown, OK 32317</td>\n",
              "      <td>-23.4528625</td>\n",
              "      <td>109.002168</td>\n",
              "    </tr>\n",
              "    <tr>\n",
              "      <th>38</th>\n",
              "      <td>Timothy Bradford</td>\n",
              "      <td>83.0</td>\n",
              "      <td>63.079318</td>\n",
              "      <td>1435 Roger Stream Suite 775\\nRogerschester, NC...</td>\n",
              "      <td>55.9625485</td>\n",
              "      <td>108.397809</td>\n",
              "    </tr>\n",
              "    <tr>\n",
              "      <th>39</th>\n",
              "      <td>Ronald Welch</td>\n",
              "      <td>27.0</td>\n",
              "      <td>69.710357</td>\n",
              "      <td>0510 Roberts Tunnel Apt. 231\\nSouth Katie, IA ...</td>\n",
              "      <td>10.100444</td>\n",
              "      <td>157.947710</td>\n",
              "    </tr>\n",
              "    <tr>\n",
              "      <th>40</th>\n",
              "      <td>Amanda Harris</td>\n",
              "      <td>80.0</td>\n",
              "      <td>82.082722</td>\n",
              "      <td>564 Casey Pine\\nMichelleland, IL 73699</td>\n",
              "      <td>58.468539</td>\n",
              "      <td>-174.672378</td>\n",
              "    </tr>\n",
              "    <tr>\n",
              "      <th>41</th>\n",
              "      <td>Melissa Murphy</td>\n",
              "      <td>50.0</td>\n",
              "      <td>85.920122</td>\n",
              "      <td>81446 Robinson Groves Suite 038\\nHamptoncheste...</td>\n",
              "      <td>-75.6291225</td>\n",
              "      <td>-124.026521</td>\n",
              "    </tr>\n",
              "    <tr>\n",
              "      <th>42</th>\n",
              "      <td>Andrea Ball</td>\n",
              "      <td>90.0</td>\n",
              "      <td>89.683767</td>\n",
              "      <td>13803 Michelle Islands\\nEast Andrea, MH 03619</td>\n",
              "      <td>-59.6781135</td>\n",
              "      <td>-100.870322</td>\n",
              "    </tr>\n",
              "    <tr>\n",
              "      <th>43</th>\n",
              "      <td>Christina Carter</td>\n",
              "      <td>76.0</td>\n",
              "      <td>71.313595</td>\n",
              "      <td>6306 Johnson Springs\\nBerrystad, OR 43581</td>\n",
              "      <td>-64.995804</td>\n",
              "      <td>119.143968</td>\n",
              "    </tr>\n",
              "    <tr>\n",
              "      <th>44</th>\n",
              "      <td>Austin Dodson</td>\n",
              "      <td>91.0</td>\n",
              "      <td>69.412069</td>\n",
              "      <td>3384 Sandra Well\\nRebeccaside, CA 25057</td>\n",
              "      <td>59.4840155</td>\n",
              "      <td>-71.963549</td>\n",
              "    </tr>\n",
              "    <tr>\n",
              "      <th>45</th>\n",
              "      <td>Alexandra Mcintosh</td>\n",
              "      <td>89.0</td>\n",
              "      <td>75.676866</td>\n",
              "      <td>6817 Berger Roads\\nPort Chad, CT 84042</td>\n",
              "      <td>-39.2979775</td>\n",
              "      <td>-164.216904</td>\n",
              "    </tr>\n",
              "    <tr>\n",
              "      <th>46</th>\n",
              "      <td>Jacob Moreno</td>\n",
              "      <td>84.0</td>\n",
              "      <td>83.846510</td>\n",
              "      <td>USNS Rice\\nFPO AP 52685</td>\n",
              "      <td>-82.724179</td>\n",
              "      <td>149.507456</td>\n",
              "    </tr>\n",
              "    <tr>\n",
              "      <th>47</th>\n",
              "      <td>Jacob Brown</td>\n",
              "      <td>69.0</td>\n",
              "      <td>84.413981</td>\n",
              "      <td>4011 William Mountains\\nWest Monique, NH 17697</td>\n",
              "      <td>70.411307</td>\n",
              "      <td>-92.394181</td>\n",
              "    </tr>\n",
              "    <tr>\n",
              "      <th>48</th>\n",
              "      <td>Nicholas Salazar</td>\n",
              "      <td>94.0</td>\n",
              "      <td>68.195556</td>\n",
              "      <td>6938 Wong Walks\\nWest Davidland, WY 35446</td>\n",
              "      <td>7.631816</td>\n",
              "      <td>153.212274</td>\n",
              "    </tr>\n",
              "    <tr>\n",
              "      <th>49</th>\n",
              "      <td>Jesse Cruz</td>\n",
              "      <td>68.0</td>\n",
              "      <td>68.782361</td>\n",
              "      <td>35671 Bonilla Manor Apt. 094\\nKrausefort, MT 7...</td>\n",
              "      <td>44.8771775</td>\n",
              "      <td>51.978018</td>\n",
              "    </tr>\n",
              "  </tbody>\n",
              "</table>\n",
              "</div>"
            ],
            "text/plain": [
              "                   name   age     Weight  \\\n",
              "0       Brandy Phillips  29.0  83.060495   \n",
              "1         Thomas Larson  34.0  92.539982   \n",
              "2      Rebecca Martinez  95.0  71.600128   \n",
              "3       Nicole Anderson  95.0  71.596068   \n",
              "4           Troy Grimes  40.0  80.243444   \n",
              "5       Kathryn Mercado  61.0  71.843103   \n",
              "6      Candice Holloway  92.0  79.498825   \n",
              "7       Jennifer Kaiser  69.0  84.127367   \n",
              "8    Jennifer Mosley MD  61.0  61.418793   \n",
              "9         Stacy Sanchez  69.0  97.743667   \n",
              "10  Stephanie Blanchard  94.0  77.125471   \n",
              "11        Rhonda Palmer  64.0  94.048292   \n",
              "12       Michael Martin  77.0  91.619908   \n",
              "13     Cassandra Gordon  79.0  61.483415   \n",
              "14   Loretta Williamson  58.0  89.791477   \n",
              "15    Jillian Jefferson  67.0  84.382487   \n",
              "16        Christie Berg  50.0  76.628017   \n",
              "17           Mary Smith  32.0  71.087932   \n",
              "18        Tammy Hoffman  24.0  64.902732   \n",
              "19      Kimberly Howard  56.0  80.916271   \n",
              "20          Jason Irwin  58.0  74.603499   \n",
              "21          Mary Nelson  30.0  78.034773   \n",
              "22       Richard Wilson  62.0  82.002525   \n",
              "23          Amy Pearson  80.0  91.444426   \n",
              "24       Heather Walker  23.0  69.784254   \n",
              "25          Maria Brown  26.0  76.529478   \n",
              "26       Sara Rodriguez  92.0  66.624269   \n",
              "27   Christopher Jordan  49.0  63.489392   \n",
              "28       Marcus Morales  39.0  89.514336   \n",
              "29          Evan Gibson  88.0  78.364791   \n",
              "30          Robert Todd  53.0  78.328250   \n",
              "31        Dennis Burton  99.0  96.364301   \n",
              "32           Mary Brown  64.0  83.536419   \n",
              "33     Hannah Cohen DDS  50.0  67.611176   \n",
              "34      Stuart Mckinney  90.0  88.600864   \n",
              "35      Mathew Figueroa  58.0  77.821978   \n",
              "36          Alicia Hunt  21.0  68.478660   \n",
              "37         Thomas Allen  89.0  98.171258   \n",
              "38     Timothy Bradford  83.0  63.079318   \n",
              "39         Ronald Welch  27.0  69.710357   \n",
              "40        Amanda Harris  80.0  82.082722   \n",
              "41       Melissa Murphy  50.0  85.920122   \n",
              "42          Andrea Ball  90.0  89.683767   \n",
              "43     Christina Carter  76.0  71.313595   \n",
              "44        Austin Dodson  91.0  69.412069   \n",
              "45   Alexandra Mcintosh  89.0  75.676866   \n",
              "46         Jacob Moreno  84.0  83.846510   \n",
              "47          Jacob Brown  69.0  84.413981   \n",
              "48     Nicholas Salazar  94.0  68.195556   \n",
              "49           Jesse Cruz  68.0  68.782361   \n",
              "\n",
              "                                              address     latitude  \\\n",
              "0          05227 Salazar Orchard\\nDebraside, NJ 62644  -55.2053615   \n",
              "1         893 Ronald Courts\\nPort Jacobbury, MA 19300   -42.908539   \n",
              "2         78891 Miles Unions\\nWilliamsmouth, CA 42377  -75.8563775   \n",
              "3   4163 Michael Points Suite 713\\nKevinchester, M...   -59.351261   \n",
              "4   7443 Cassandra Green\\nLake Danielchester, NM 0...   -3.8213535   \n",
              "5        45242 Davis Stream\\nSouth Patricia, CO 15391  -71.7368125   \n",
              "6   79441 Connor Divide Apt. 010\\nKevinmouth, WV 5...    85.094362   \n",
              "7   144 Bonilla Courts Suite 138\\nLake John, NC 04986   63.0441225   \n",
              "8   04858 Nichole Station Suite 543\\nWest Dylan, M...   -14.447111   \n",
              "9                    PSC 3898, Box 7816\\nAPO AP 54983   -13.940613   \n",
              "10  44092 Lori Fall Apt. 701\\nNorth Geraldton, WI ...  -57.5094225   \n",
              "11  21641 Scott River Suite 917\\nAnthonyville, MN ...     0.987476   \n",
              "12                          USNS Warren\\nFPO AP 54050  -84.3653925   \n",
              "13  89336 Kelley Motorway Apt. 215\\nNew Jennifer, ...  -50.8159995   \n",
              "14     456 Jeremy Ramp Apt. 962\\nCarterberg, OK 93075    84.634770   \n",
              "15  64415 Arthur Streets Suite 675\\nMatthewville, ...    79.003914   \n",
              "16  7417 Werner Club Suite 617\\nWest Gregoryburgh,...  -21.9631645   \n",
              "17            0076 Holly Point\\nSouth Jason, MN 60645    85.797892   \n",
              "18             925 Paul Point\\nWest Matthew, MT 03045   -8.2049195   \n",
              "19  466 Gabriela Wells Suite 238\\nWest Jennifermou...   -62.680031   \n",
              "20  8586 Snyder Expressway\\nSouth Kellymouth, AK 8...   -78.443283   \n",
              "21  93946 Johnson Spring Apt. 113\\nRachelmouth, NH...    11.954259   \n",
              "22           177 Hughes Motorway\\nWilsonton, NM 28810    -1.747090   \n",
              "23          52155 Beth Parkway\\nJohnsonstad, HI 09681   55.6873475   \n",
              "24             85188 Teresa Ports\\nEricside, ID 30280    69.105293   \n",
              "25  9985 Victoria Tunnel Suite 748\\nWhitechester, ...    7.8822195   \n",
              "26   5558 Hunter Courts Suite 852\\nLoveland, CA 26533  -37.2659235   \n",
              "27  04466 Hurst Fields Apt. 547\\nSouth Katelynstad...   -23.010163   \n",
              "28      36013 Debbie Springs\\nHortonborough, CT 82598   -75.271930   \n",
              "29          4691 Maureen Knoll\\nVazqueztown, WI 74347     1.751467   \n",
              "30  8169 Manning Track Apt. 757\\nEast Raymondchest...   75.6668885   \n",
              "31         879 Logan Ford\\nLake Nicoleshire, OH 67334  -78.8486405   \n",
              "32            887 William Walk\\nAudreyshire, NM 08187    25.276716   \n",
              "33           3353 Troy Corners\\nWest Daniel, KY 54389   -5.1911555   \n",
              "34   158 Henderson Village\\nPort Lindseyton, KY 48323  -70.7854545   \n",
              "35  291 Pierce Station Suite 563\\nEast Edward, VI ...   -76.391848   \n",
              "36      05562 Christine Turnpike\\nAllenfort, RI 97032   53.1951485   \n",
              "37            026 Melissa Summit\\nDavidtown, OK 32317  -23.4528625   \n",
              "38  1435 Roger Stream Suite 775\\nRogerschester, NC...   55.9625485   \n",
              "39  0510 Roberts Tunnel Apt. 231\\nSouth Katie, IA ...    10.100444   \n",
              "40             564 Casey Pine\\nMichelleland, IL 73699    58.468539   \n",
              "41  81446 Robinson Groves Suite 038\\nHamptoncheste...  -75.6291225   \n",
              "42      13803 Michelle Islands\\nEast Andrea, MH 03619  -59.6781135   \n",
              "43          6306 Johnson Springs\\nBerrystad, OR 43581   -64.995804   \n",
              "44            3384 Sandra Well\\nRebeccaside, CA 25057   59.4840155   \n",
              "45             6817 Berger Roads\\nPort Chad, CT 84042  -39.2979775   \n",
              "46                            USNS Rice\\nFPO AP 52685   -82.724179   \n",
              "47     4011 William Mountains\\nWest Monique, NH 17697    70.411307   \n",
              "48          6938 Wong Walks\\nWest Davidland, WY 35446     7.631816   \n",
              "49  35671 Bonilla Manor Apt. 094\\nKrausefort, MT 7...   44.8771775   \n",
              "\n",
              "      longitude  \n",
              "0      0.632960  \n",
              "1   -120.532521  \n",
              "2    -51.445598  \n",
              "3    172.527310  \n",
              "4    -51.263643  \n",
              "5    -13.351587  \n",
              "6      7.039667  \n",
              "7     -7.327368  \n",
              "8    107.772601  \n",
              "9    -74.258366  \n",
              "10   -75.838574  \n",
              "11   164.942880  \n",
              "12  -175.686624  \n",
              "13   -25.921281  \n",
              "14    60.580967  \n",
              "15    19.482319  \n",
              "16    29.407167  \n",
              "17   -73.198412  \n",
              "18   -31.732168  \n",
              "19   118.182089  \n",
              "20    59.982482  \n",
              "21     2.746928  \n",
              "22  -122.113166  \n",
              "23   -27.332657  \n",
              "24   -68.987340  \n",
              "25   -85.005453  \n",
              "26  -104.340395  \n",
              "27    22.893186  \n",
              "28   -76.392413  \n",
              "29   -21.407617  \n",
              "30  -161.679093  \n",
              "31   -25.535150  \n",
              "32  -166.160612  \n",
              "33   128.418358  \n",
              "34   166.071092  \n",
              "35  -177.237155  \n",
              "36    69.957463  \n",
              "37   109.002168  \n",
              "38   108.397809  \n",
              "39   157.947710  \n",
              "40  -174.672378  \n",
              "41  -124.026521  \n",
              "42  -100.870322  \n",
              "43   119.143968  \n",
              "44   -71.963549  \n",
              "45  -164.216904  \n",
              "46   149.507456  \n",
              "47   -92.394181  \n",
              "48   153.212274  \n",
              "49    51.978018  "
            ]
          },
          "execution_count": 89,
          "metadata": {},
          "output_type": "execute_result"
        }
      ],
      "source": [
        "from random import randint\n",
        "import pandas as pd\n",
        "import random\n",
        "\n",
        "fake = Faker()\n",
        "\n",
        "def input_data(n_rows):\n",
        "\n",
        "    # pandas dataframe\n",
        "    data = pd.DataFrame()\n",
        "    for i in range(0, n_rows):\n",
        "        data.loc[i,'name']= fake.name()\n",
        "        data.loc[i,'age']= fake.random_int(18, 100)\n",
        "        data.loc[i,'Weight']= random.uniform(60, 100)\n",
        "        data.loc[i,'address']= fake.address()\n",
        "        data.loc[i,'latitude']= str(fake.latitude())\n",
        "        data.loc[i,'longitude']= str(fake.longitude())\n",
        "    return data\n",
        "\n",
        "\n",
        "input_data(50)"
      ]
    },
    {
      "cell_type": "markdown",
      "metadata": {
        "id": "G8wFFbqDEkJn"
      },
      "source": [
        "### Challenge 9:\n",
        "Update the  example above so that you:\n",
        "- Generate a `height` feature following a gaussian distribution of with mu=180 cm and a std_deviation=15.5 cm.\n",
        "- Generate a `bmi` feature where bmi = Weight / (height (in meter) **2)."
      ]
    },
    {
      "cell_type": "code",
      "execution_count": 90,
      "metadata": {
        "id": "jWlh8FjvEkJn"
      },
      "outputs": [],
      "source": [
        "#Your Solution"
      ]
    }
  ],
  "metadata": {
    "colab": {
      "provenance": []
    },
    "kernelspec": {
      "display_name": "base",
      "language": "python",
      "name": "python3"
    },
    "language_info": {
      "codemirror_mode": {
        "name": "ipython",
        "version": 3
      },
      "file_extension": ".py",
      "mimetype": "text/x-python",
      "name": "python",
      "nbconvert_exporter": "python",
      "pygments_lexer": "ipython3",
      "version": "3.12.4"
    }
  },
  "nbformat": 4,
  "nbformat_minor": 0
}
